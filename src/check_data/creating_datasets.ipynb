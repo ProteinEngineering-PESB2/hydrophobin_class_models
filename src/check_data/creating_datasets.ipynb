{
 "cells": [
  {
   "cell_type": "code",
   "execution_count": 11,
   "metadata": {},
   "outputs": [],
   "source": [
    "import pandas as pd\n",
    "from sklearn.utils import shuffle"
   ]
  },
  {
   "cell_type": "code",
   "execution_count": 4,
   "metadata": {},
   "outputs": [
    {
     "data": {
      "text/html": [
       "<div>\n",
       "<style scoped>\n",
       "    .dataframe tbody tr th:only-of-type {\n",
       "        vertical-align: middle;\n",
       "    }\n",
       "\n",
       "    .dataframe tbody tr th {\n",
       "        vertical-align: top;\n",
       "    }\n",
       "\n",
       "    .dataframe thead th {\n",
       "        text-align: right;\n",
       "    }\n",
       "</style>\n",
       "<table border=\"1\" class=\"dataframe\">\n",
       "  <thead>\n",
       "    <tr style=\"text-align: right;\">\n",
       "      <th></th>\n",
       "      <th>id</th>\n",
       "      <th>sequence</th>\n",
       "      <th>target</th>\n",
       "    </tr>\n",
       "  </thead>\n",
       "  <tbody>\n",
       "    <tr>\n",
       "      <th>0</th>\n",
       "      <td>sp|P79073|HYP2_HYPJE</td>\n",
       "      <td>MQFFAVALFATSALAAVCPTGLFSNPLCCATNVLDLIGVDCKTPTI...</td>\n",
       "      <td>HFB</td>\n",
       "    </tr>\n",
       "    <tr>\n",
       "      <th>1</th>\n",
       "      <td>sp|Q04571|RODL_NEUCR</td>\n",
       "      <td>MQFTSVFTILAIAMTAAAAPAEVVPRATTIGPNTCSIDDYKPYCCQ...</td>\n",
       "      <td>HFB</td>\n",
       "    </tr>\n",
       "    <tr>\n",
       "      <th>2</th>\n",
       "      <td>sp|Q9UVI4|THYD_CLAFS</td>\n",
       "      <td>MKFLAAASLLVASTLAVPTSSGGSCRPRPPPGGGNGGNGGNGGNGG...</td>\n",
       "      <td>HFB</td>\n",
       "    </tr>\n",
       "    <tr>\n",
       "      <th>3</th>\n",
       "      <td>sp|D4ARW0|HYPA_ARTBC</td>\n",
       "      <td>MKFSIAAAVLALASAVVAHPGAGYVSTPEKEANFQQNFQKFVTACG...</td>\n",
       "      <td>HFB</td>\n",
       "    </tr>\n",
       "    <tr>\n",
       "      <th>4</th>\n",
       "      <td>sp|O13300|HYP3_AGABI</td>\n",
       "      <td>MFARISTIITTLFFAMLAAATAVPRTDPPPATGSQCTAVGGDVNCC...</td>\n",
       "      <td>HFB</td>\n",
       "    </tr>\n",
       "    <tr>\n",
       "      <th>...</th>\n",
       "      <td>...</td>\n",
       "      <td>...</td>\n",
       "      <td>...</td>\n",
       "    </tr>\n",
       "    <tr>\n",
       "      <th>42226</th>\n",
       "      <td>sp|A5USH6|RS14Z_ROSS1</td>\n",
       "      <td>MARKALIVKAQRPQKYKVRAYNRCKICGRPRAYMRKFGMCRICFRE...</td>\n",
       "      <td>Negative</td>\n",
       "    </tr>\n",
       "    <tr>\n",
       "      <th>42227</th>\n",
       "      <td>sp|A4WDA8|HSCB_ENT38</td>\n",
       "      <td>MDYFTLFGLPAQYSIDLPALTIRFQDLQRQFHPDKFASGTPAEQLA...</td>\n",
       "      <td>Negative</td>\n",
       "    </tr>\n",
       "    <tr>\n",
       "      <th>42228</th>\n",
       "      <td>sp|Q0I8J6|PURA_SYNS3</td>\n",
       "      <td>MANVVVIGAQWGDEGKGKITDLLSRSADVVVRYQGGVNAGHTIVVD...</td>\n",
       "      <td>Negative</td>\n",
       "    </tr>\n",
       "    <tr>\n",
       "      <th>42229</th>\n",
       "      <td>sp|A9NBQ9|TRMD_COXBR</td>\n",
       "      <td>MKLIIGVITLFPQMFDALKSGVIGRALKQDRLTLSFWNPRDYATDP...</td>\n",
       "      <td>Negative</td>\n",
       "    </tr>\n",
       "    <tr>\n",
       "      <th>42230</th>\n",
       "      <td>sp|B7MMY5|UXAB_ECO45</td>\n",
       "      <td>MKTLNRRDFPGAQYPERIIQFGEGNFLRAFVDWQIDLLNEHTDLNS...</td>\n",
       "      <td>Negative</td>\n",
       "    </tr>\n",
       "  </tbody>\n",
       "</table>\n",
       "<p>42231 rows × 3 columns</p>\n",
       "</div>"
      ],
      "text/plain": [
       "                          id  \\\n",
       "0       sp|P79073|HYP2_HYPJE   \n",
       "1       sp|Q04571|RODL_NEUCR   \n",
       "2       sp|Q9UVI4|THYD_CLAFS   \n",
       "3       sp|D4ARW0|HYPA_ARTBC   \n",
       "4       sp|O13300|HYP3_AGABI   \n",
       "...                      ...   \n",
       "42226  sp|A5USH6|RS14Z_ROSS1   \n",
       "42227   sp|A4WDA8|HSCB_ENT38   \n",
       "42228   sp|Q0I8J6|PURA_SYNS3   \n",
       "42229   sp|A9NBQ9|TRMD_COXBR   \n",
       "42230   sp|B7MMY5|UXAB_ECO45   \n",
       "\n",
       "                                                sequence    target  \n",
       "0      MQFFAVALFATSALAAVCPTGLFSNPLCCATNVLDLIGVDCKTPTI...       HFB  \n",
       "1      MQFTSVFTILAIAMTAAAAPAEVVPRATTIGPNTCSIDDYKPYCCQ...       HFB  \n",
       "2      MKFLAAASLLVASTLAVPTSSGGSCRPRPPPGGGNGGNGGNGGNGG...       HFB  \n",
       "3      MKFSIAAAVLALASAVVAHPGAGYVSTPEKEANFQQNFQKFVTACG...       HFB  \n",
       "4      MFARISTIITTLFFAMLAAATAVPRTDPPPATGSQCTAVGGDVNCC...       HFB  \n",
       "...                                                  ...       ...  \n",
       "42226  MARKALIVKAQRPQKYKVRAYNRCKICGRPRAYMRKFGMCRICFRE...  Negative  \n",
       "42227  MDYFTLFGLPAQYSIDLPALTIRFQDLQRQFHPDKFASGTPAEQLA...  Negative  \n",
       "42228  MANVVVIGAQWGDEGKGKITDLLSRSADVVVRYQGGVNAGHTIVVD...  Negative  \n",
       "42229  MKLIIGVITLFPQMFDALKSGVIGRALKQDRLTLSFWNPRDYATDP...  Negative  \n",
       "42230  MKTLNRRDFPGAQYPERIIQFGEGNFLRAFVDWQIDLLNEHTDLNS...  Negative  \n",
       "\n",
       "[42231 rows x 3 columns]"
      ]
     },
     "execution_count": 4,
     "metadata": {},
     "output_type": "execute_result"
    }
   ],
   "source": [
    "df_data = pd.read_csv(\"../../results/processed_data/full_dataset_with_negative_examples.csv\")\n",
    "df_data"
   ]
  },
  {
   "cell_type": "markdown",
   "metadata": {},
   "source": [
    "### Generating dataset with binary examples"
   ]
  },
  {
   "cell_type": "code",
   "execution_count": 7,
   "metadata": {},
   "outputs": [
    {
     "data": {
      "text/plain": [
       "target\n",
       "Negative    21126\n",
       "Positive    21105\n",
       "Name: count, dtype: int64"
      ]
     },
     "execution_count": 7,
     "metadata": {},
     "output_type": "execute_result"
    }
   ],
   "source": [
    "df_data_pos_neg = df_data[[\"sequence\", \"target\"]]\n",
    "df_data_pos = df_data_pos_neg[df_data[\"target\"] != \"Negative\"]\n",
    "df_data_neg = df_data_pos_neg[df_data[\"target\"] == \"Negative\"]\n",
    "\n",
    "df_data_pos = df_data_pos[[\"sequence\"]]\n",
    "df_data_pos[\"target\"] = \"Positive\"\n",
    "\n",
    "df_data_pos_neg = pd.concat([df_data_pos, df_data_neg], axis=0)\n",
    "df_data_pos_neg.to_csv(\"../../results/datasets_to_code/binary_case_data.csv\", index=False)\n",
    "df_data_pos_neg['target'].value_counts()\n"
   ]
  },
  {
   "cell_type": "markdown",
   "metadata": {},
   "source": [
    "### Generating multiclass dataset with negative examples"
   ]
  },
  {
   "cell_type": "code",
   "execution_count": 8,
   "metadata": {},
   "outputs": [
    {
     "data": {
      "text/plain": [
       "target\n",
       "Negative        21126\n",
       "HFB             12034\n",
       "HFB Class I      6698\n",
       "CPs              1610\n",
       "HFB Class II      763\n",
       "Name: count, dtype: int64"
      ]
     },
     "execution_count": 8,
     "metadata": {},
     "output_type": "execute_result"
    }
   ],
   "source": [
    "df_data['target'].value_counts()"
   ]
  },
  {
   "cell_type": "code",
   "execution_count": 9,
   "metadata": {},
   "outputs": [],
   "source": [
    "df_data_neg = df_data[df_data['target'] == \"Negative\"]\n",
    "df_hfb = df_data[df_data['target'] == \"HFB\"]\n",
    "df_hfb_c1 = df_data[df_data['target'] == \"HFB Class I\"]\n",
    "df_hfb_c2 = df_data[df_data['target'] == \"HFB Class II\"]\n",
    "df_cps = df_data[df_data['target'] == \"CPs\"]\n"
   ]
  },
  {
   "cell_type": "code",
   "execution_count": 12,
   "metadata": {},
   "outputs": [],
   "source": [
    "df_data_neg = shuffle(df_data_neg)\n",
    "df_hfb = shuffle(df_hfb)\n",
    "df_hfb_c1 = shuffle(df_hfb_c1)\n",
    "df_cps = shuffle(df_cps)"
   ]
  },
  {
   "cell_type": "code",
   "execution_count": 13,
   "metadata": {},
   "outputs": [
    {
     "data": {
      "text/plain": [
       "target\n",
       "Negative        763\n",
       "HFB             763\n",
       "HFB Class I     763\n",
       "CPs             763\n",
       "HFB Class II    763\n",
       "Name: count, dtype: int64"
      ]
     },
     "execution_count": 13,
     "metadata": {},
     "output_type": "execute_result"
    }
   ],
   "source": [
    "df_data_neg = df_data_neg[:len(df_hfb_c2)]\n",
    "df_hfb = df_hfb[:len(df_hfb_c2)]\n",
    "df_hfb_c1 = df_hfb_c1[:len(df_hfb_c2)]\n",
    "df_cps = df_cps[:len(df_hfb_c2)]\n",
    "\n",
    "df_concat_multi_class = pd.concat([df_data_neg,df_hfb, df_hfb_c1, df_cps, df_hfb_c2 ], axis=0)\n",
    "df_concat_multi_class['target'].value_counts()"
   ]
  },
  {
   "cell_type": "code",
   "execution_count": 16,
   "metadata": {},
   "outputs": [],
   "source": [
    "df_concat_multi_class = df_concat_multi_class[[\"sequence\", \"target\"]]\n",
    "df_concat_multi_class.to_csv(\"../../results/datasets_to_code/multi_class_with_negative.csv\", index=False)"
   ]
  },
  {
   "cell_type": "markdown",
   "metadata": {},
   "source": [
    "### Generating dataset binary with only positive examples HFB v/s CPs"
   ]
  },
  {
   "cell_type": "code",
   "execution_count": 17,
   "metadata": {},
   "outputs": [
    {
     "data": {
      "text/plain": [
       "target\n",
       "HFB             12034\n",
       "HFB Class I      6698\n",
       "CPs              1610\n",
       "HFB Class II      763\n",
       "Name: count, dtype: int64"
      ]
     },
     "execution_count": 17,
     "metadata": {},
     "output_type": "execute_result"
    }
   ],
   "source": [
    "df_data_pos = df_data[[\"sequence\", \"target\"]]\n",
    "df_data_pos = df_data_pos[df_data_pos[\"target\"] != \"Negative\"]\n",
    "df_data_pos[\"target\"].value_counts()"
   ]
  },
  {
   "cell_type": "code",
   "execution_count": 20,
   "metadata": {},
   "outputs": [
    {
     "data": {
      "text/plain": [
       "target\n",
       "CPs    1610\n",
       "HFB    1610\n",
       "Name: count, dtype: int64"
      ]
     },
     "execution_count": 20,
     "metadata": {},
     "output_type": "execute_result"
    }
   ],
   "source": [
    "df_hfb = df_data_pos[df_data_pos[\"target\"] == \"HFB\"]\n",
    "df_CPs = df_data_pos[df_data_pos[\"target\"] == \"CPs\"]\n",
    "\n",
    "df_hfb = shuffle(df_hfb)\n",
    "\n",
    "df_concat = pd.concat([df_CPs, df_hfb[:len(df_CPs)]], axis=0)\n",
    "\n",
    "df_concat.to_csv(\"../../results/datasets_to_code/binary_only_positive.csv\", index=False)\n",
    "df_concat[\"target\"].value_counts()\n"
   ]
  },
  {
   "cell_type": "markdown",
   "metadata": {},
   "source": [
    "### Generating only HFBs multitask"
   ]
  },
  {
   "cell_type": "code",
   "execution_count": 21,
   "metadata": {},
   "outputs": [],
   "source": [
    "df_data_pos = df_data[[\"sequence\", \"target\"]]\n",
    "df_data_hfb = df_data_pos[df_data_pos[\"target\"] == \"HFB\"]\n",
    "df_data_hfb_c1 = df_data_pos[df_data_pos[\"target\"] == \"HFB Class I\"]\n",
    "df_data_hfb_c2 = df_data_pos[df_data_pos[\"target\"] == \"HFB Class II\"]"
   ]
  },
  {
   "cell_type": "code",
   "execution_count": 22,
   "metadata": {},
   "outputs": [
    {
     "name": "stderr",
     "output_type": "stream",
     "text": [
      "/tmp/ipykernel_104767/2990527178.py:14: SettingWithCopyWarning: \n",
      "A value is trying to be set on a copy of a slice from a DataFrame.\n",
      "Try using .loc[row_indexer,col_indexer] = value instead\n",
      "\n",
      "See the caveats in the documentation: https://pandas.pydata.org/pandas-docs/stable/user_guide/indexing.html#returning-a-view-versus-a-copy\n",
      "  df_data_hfb['is_in_c1_c2'] = is_in_c1_c2\n"
     ]
    },
    {
     "data": {
      "text/html": [
       "<div>\n",
       "<style scoped>\n",
       "    .dataframe tbody tr th:only-of-type {\n",
       "        vertical-align: middle;\n",
       "    }\n",
       "\n",
       "    .dataframe tbody tr th {\n",
       "        vertical-align: top;\n",
       "    }\n",
       "\n",
       "    .dataframe thead th {\n",
       "        text-align: right;\n",
       "    }\n",
       "</style>\n",
       "<table border=\"1\" class=\"dataframe\">\n",
       "  <thead>\n",
       "    <tr style=\"text-align: right;\">\n",
       "      <th></th>\n",
       "      <th>sequence</th>\n",
       "      <th>target</th>\n",
       "      <th>is_in_c1_c2</th>\n",
       "    </tr>\n",
       "  </thead>\n",
       "  <tbody>\n",
       "    <tr>\n",
       "      <th>0</th>\n",
       "      <td>MQFFAVALFATSALAAVCPTGLFSNPLCCATNVLDLIGVDCKTPTI...</td>\n",
       "      <td>HFB</td>\n",
       "      <td>False</td>\n",
       "    </tr>\n",
       "    <tr>\n",
       "      <th>1</th>\n",
       "      <td>MQFTSVFTILAIAMTAAAAPAEVVPRATTIGPNTCSIDDYKPYCCQ...</td>\n",
       "      <td>HFB</td>\n",
       "      <td>False</td>\n",
       "    </tr>\n",
       "    <tr>\n",
       "      <th>2</th>\n",
       "      <td>MKFLAAASLLVASTLAVPTSSGGSCRPRPPPGGGNGGNGGNGGNGG...</td>\n",
       "      <td>HFB</td>\n",
       "      <td>True</td>\n",
       "    </tr>\n",
       "    <tr>\n",
       "      <th>3</th>\n",
       "      <td>MKFSIAAAVLALASAVVAHPGAGYVSTPEKEANFQQNFQKFVTACG...</td>\n",
       "      <td>HFB</td>\n",
       "      <td>True</td>\n",
       "    </tr>\n",
       "    <tr>\n",
       "      <th>4</th>\n",
       "      <td>MFARISTIITTLFFAMLAAATAVPRTDPPPATGSQCTAVGGDVNCC...</td>\n",
       "      <td>HFB</td>\n",
       "      <td>True</td>\n",
       "    </tr>\n",
       "    <tr>\n",
       "      <th>...</th>\n",
       "      <td>...</td>\n",
       "      <td>...</td>\n",
       "      <td>...</td>\n",
       "    </tr>\n",
       "    <tr>\n",
       "      <th>12029</th>\n",
       "      <td>MNTNVTAPAPSTIPINQEHTVQQHKDTIPAYTSAEFDNPQQQYTPA...</td>\n",
       "      <td>HFB</td>\n",
       "      <td>False</td>\n",
       "    </tr>\n",
       "    <tr>\n",
       "      <th>12030</th>\n",
       "      <td>MLFNNIIVAIALSGAATALPQKYPIKCGDSVCPADKPKCCEVLVNG...</td>\n",
       "      <td>HFB</td>\n",
       "      <td>False</td>\n",
       "    </tr>\n",
       "    <tr>\n",
       "      <th>12031</th>\n",
       "      <td>MQFSLAIVTLLATAVSALPTEEKRQAYIPCSGLYGTSQCCATDVLG...</td>\n",
       "      <td>HFB</td>\n",
       "      <td>False</td>\n",
       "    </tr>\n",
       "    <tr>\n",
       "      <th>12032</th>\n",
       "      <td>MKTTALLSALTLAVVAIAAPAEIEARGRGSGGGGSGGTCNSDNHQQ...</td>\n",
       "      <td>HFB</td>\n",
       "      <td>False</td>\n",
       "    </tr>\n",
       "    <tr>\n",
       "      <th>12033</th>\n",
       "      <td>MQFTKIASVLAMAAAAIAAPAPGNYEIEPRTGGGNKNQPACSAQSQ...</td>\n",
       "      <td>HFB</td>\n",
       "      <td>False</td>\n",
       "    </tr>\n",
       "  </tbody>\n",
       "</table>\n",
       "<p>12034 rows × 3 columns</p>\n",
       "</div>"
      ],
      "text/plain": [
       "                                                sequence target  is_in_c1_c2\n",
       "0      MQFFAVALFATSALAAVCPTGLFSNPLCCATNVLDLIGVDCKTPTI...    HFB        False\n",
       "1      MQFTSVFTILAIAMTAAAAPAEVVPRATTIGPNTCSIDDYKPYCCQ...    HFB        False\n",
       "2      MKFLAAASLLVASTLAVPTSSGGSCRPRPPPGGGNGGNGGNGGNGG...    HFB         True\n",
       "3      MKFSIAAAVLALASAVVAHPGAGYVSTPEKEANFQQNFQKFVTACG...    HFB         True\n",
       "4      MFARISTIITTLFFAMLAAATAVPRTDPPPATGSQCTAVGGDVNCC...    HFB         True\n",
       "...                                                  ...    ...          ...\n",
       "12029  MNTNVTAPAPSTIPINQEHTVQQHKDTIPAYTSAEFDNPQQQYTPA...    HFB        False\n",
       "12030  MLFNNIIVAIALSGAATALPQKYPIKCGDSVCPADKPKCCEVLVNG...    HFB        False\n",
       "12031  MQFSLAIVTLLATAVSALPTEEKRQAYIPCSGLYGTSQCCATDVLG...    HFB        False\n",
       "12032  MKTTALLSALTLAVVAIAAPAEIEARGRGSGGGGSGGTCNSDNHQQ...    HFB        False\n",
       "12033  MQFTKIASVLAMAAAAIAAPAPGNYEIEPRTGGGNKNQPACSAQSQ...    HFB        False\n",
       "\n",
       "[12034 rows x 3 columns]"
      ]
     },
     "execution_count": 22,
     "metadata": {},
     "output_type": "execute_result"
    }
   ],
   "source": [
    "unique_hfb_c1 = df_data_hfb_c1['sequence'].unique().tolist()\n",
    "unique_hfb_c2 = df_data_hfb_c2['sequence'].unique().tolist()\n",
    "\n",
    "is_in_c1_c2 = []\n",
    "\n",
    "for index in df_data_hfb.index:\n",
    "    seq = df_data_hfb['sequence'][index]\n",
    "\n",
    "    if seq not in unique_hfb_c1 and seq not in unique_hfb_c2:\n",
    "        is_in_c1_c2.append(False)\n",
    "    else:\n",
    "        is_in_c1_c2.append(True)\n",
    "\n",
    "df_data_hfb['is_in_c1_c2'] = is_in_c1_c2\n",
    "df_data_hfb"
   ]
  },
  {
   "cell_type": "code",
   "execution_count": 24,
   "metadata": {},
   "outputs": [
    {
     "data": {
      "text/html": [
       "<div>\n",
       "<style scoped>\n",
       "    .dataframe tbody tr th:only-of-type {\n",
       "        vertical-align: middle;\n",
       "    }\n",
       "\n",
       "    .dataframe tbody tr th {\n",
       "        vertical-align: top;\n",
       "    }\n",
       "\n",
       "    .dataframe thead th {\n",
       "        text-align: right;\n",
       "    }\n",
       "</style>\n",
       "<table border=\"1\" class=\"dataframe\">\n",
       "  <thead>\n",
       "    <tr style=\"text-align: right;\">\n",
       "      <th></th>\n",
       "      <th>sequence</th>\n",
       "      <th>target</th>\n",
       "    </tr>\n",
       "  </thead>\n",
       "  <tbody>\n",
       "    <tr>\n",
       "      <th>0</th>\n",
       "      <td>MQFFAVALFATSALAAVCPTGLFSNPLCCATNVLDLIGVDCKTPTI...</td>\n",
       "      <td>HFB</td>\n",
       "    </tr>\n",
       "    <tr>\n",
       "      <th>1</th>\n",
       "      <td>MQFTSVFTILAIAMTAAAAPAEVVPRATTIGPNTCSIDDYKPYCCQ...</td>\n",
       "      <td>HFB</td>\n",
       "    </tr>\n",
       "    <tr>\n",
       "      <th>7</th>\n",
       "      <td>MRFIVSLLAFTAAATATALPASAAKNAKLATSAAFAKQAEGTTCNV...</td>\n",
       "      <td>HFB</td>\n",
       "    </tr>\n",
       "    <tr>\n",
       "      <th>9</th>\n",
       "      <td>MKFFAIAALFAAAAVAQPLEDRSNGNGNVCPPGLFSNPQCCATQVL...</td>\n",
       "      <td>HFB</td>\n",
       "    </tr>\n",
       "    <tr>\n",
       "      <th>10</th>\n",
       "      <td>MQFSAAAITAIAMALTVTAAPGTTAPVKRTLDTLTYAEAQNVCGQN...</td>\n",
       "      <td>HFB</td>\n",
       "    </tr>\n",
       "    <tr>\n",
       "      <th>...</th>\n",
       "      <td>...</td>\n",
       "      <td>...</td>\n",
       "    </tr>\n",
       "    <tr>\n",
       "      <th>12029</th>\n",
       "      <td>MNTNVTAPAPSTIPINQEHTVQQHKDTIPAYTSAEFDNPQQQYTPA...</td>\n",
       "      <td>HFB</td>\n",
       "    </tr>\n",
       "    <tr>\n",
       "      <th>12030</th>\n",
       "      <td>MLFNNIIVAIALSGAATALPQKYPIKCGDSVCPADKPKCCEVLVNG...</td>\n",
       "      <td>HFB</td>\n",
       "    </tr>\n",
       "    <tr>\n",
       "      <th>12031</th>\n",
       "      <td>MQFSLAIVTLLATAVSALPTEEKRQAYIPCSGLYGTSQCCATDVLG...</td>\n",
       "      <td>HFB</td>\n",
       "    </tr>\n",
       "    <tr>\n",
       "      <th>12032</th>\n",
       "      <td>MKTTALLSALTLAVVAIAAPAEIEARGRGSGGGGSGGTCNSDNHQQ...</td>\n",
       "      <td>HFB</td>\n",
       "    </tr>\n",
       "    <tr>\n",
       "      <th>12033</th>\n",
       "      <td>MQFTKIASVLAMAAAAIAAPAPGNYEIEPRTGGGNKNQPACSAQSQ...</td>\n",
       "      <td>HFB</td>\n",
       "    </tr>\n",
       "  </tbody>\n",
       "</table>\n",
       "<p>4436 rows × 2 columns</p>\n",
       "</div>"
      ],
      "text/plain": [
       "                                                sequence target\n",
       "0      MQFFAVALFATSALAAVCPTGLFSNPLCCATNVLDLIGVDCKTPTI...    HFB\n",
       "1      MQFTSVFTILAIAMTAAAAPAEVVPRATTIGPNTCSIDDYKPYCCQ...    HFB\n",
       "7      MRFIVSLLAFTAAATATALPASAAKNAKLATSAAFAKQAEGTTCNV...    HFB\n",
       "9      MKFFAIAALFAAAAVAQPLEDRSNGNGNVCPPGLFSNPQCCATQVL...    HFB\n",
       "10     MQFSAAAITAIAMALTVTAAPGTTAPVKRTLDTLTYAEAQNVCGQN...    HFB\n",
       "...                                                  ...    ...\n",
       "12029  MNTNVTAPAPSTIPINQEHTVQQHKDTIPAYTSAEFDNPQQQYTPA...    HFB\n",
       "12030  MLFNNIIVAIALSGAATALPQKYPIKCGDSVCPADKPKCCEVLVNG...    HFB\n",
       "12031  MQFSLAIVTLLATAVSALPTEEKRQAYIPCSGLYGTSQCCATDVLG...    HFB\n",
       "12032  MKTTALLSALTLAVVAIAAPAEIEARGRGSGGGGSGGTCNSDNHQQ...    HFB\n",
       "12033  MQFTKIASVLAMAAAAIAAPAPGNYEIEPRTGGGNKNQPACSAQSQ...    HFB\n",
       "\n",
       "[4436 rows x 2 columns]"
      ]
     },
     "execution_count": 24,
     "metadata": {},
     "output_type": "execute_result"
    }
   ],
   "source": [
    "df_data_hfb = df_data_hfb[df_data_hfb[\"is_in_c1_c2\"] ==False]\n",
    "df_data_hfb = df_data_hfb[[\"sequence\", \"target\"]]\n",
    "df_data_hfb"
   ]
  },
  {
   "cell_type": "code",
   "execution_count": 28,
   "metadata": {},
   "outputs": [
    {
     "data": {
      "text/plain": [
       "target\n",
       "HFB Class II    763\n",
       "HFB             763\n",
       "HFB Class I     763\n",
       "Name: count, dtype: int64"
      ]
     },
     "execution_count": 28,
     "metadata": {},
     "output_type": "execute_result"
    }
   ],
   "source": [
    "df_data_hfb = shuffle(df_data_hfb)\n",
    "df_data_hfb_c1 = shuffle(df_data_hfb_c1)\n",
    "\n",
    "df_concat_hfb_class = pd.concat([df_data_hfb_c2, df_data_hfb[:len(df_data_hfb_c2)], df_data_hfb_c1[:len(df_data_hfb_c2)]], axis=0)\n",
    "\n",
    "df_concat_hfb_class.to_csv(\"../../results/datasets_to_code/multi_task_HFB.csv\", index=False)\n",
    "df_concat_hfb_class[\"target\"].value_counts()"
   ]
  }
 ],
 "metadata": {
  "kernelspec": {
   "display_name": "base",
   "language": "python",
   "name": "python3"
  },
  "language_info": {
   "codemirror_mode": {
    "name": "ipython",
    "version": 3
   },
   "file_extension": ".py",
   "mimetype": "text/x-python",
   "name": "python",
   "nbconvert_exporter": "python",
   "pygments_lexer": "ipython3",
   "version": "3.11.5"
  }
 },
 "nbformat": 4,
 "nbformat_minor": 2
}
